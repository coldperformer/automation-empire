{
 "cells": [
  {
   "cell_type": "markdown",
   "source": [
    "---\n",
    "\n",
    "# **Importing of Libraries**\n",
    "\n",
    "- In this section, we have imported all the libraries that we will used to verify the integrity of the notification service.\n",
    "\n",
    "---"
   ],
   "metadata": {}
  },
  {
   "cell_type": "code",
   "execution_count": null,
   "source": [
    "import requests                                                     # An elegant and simple HTTP library\r\n",
    "import base64                                                       # Encoding & decoding of binary data to printable ASCII characters\r\n",
    "from Google import Create_Service                                   # Custom script to authorize Gmail Service\r\n",
    "from email.mime.multipart import MIMEMultipart                      # An intermediate base class for MIME messages that are multipart\r\n",
    "from email.mime.text import MIMEText                                # A subclass of MIME to create MIME objects of major type text\r\n",
    "from twilio.rest import Client                                      # To authorize the client credentials\r\n",
    "from twilio.twiml.voice_response import VoiceResponse, Say          # To generate voice response to send as voice notification\r\n",
    "from IPython.core.display import display, HTML                      # To display the HTML content in the markdown output section"
   ],
   "outputs": [],
   "metadata": {}
  },
  {
   "cell_type": "markdown",
   "source": [
    "---\n",
    "\n",
    "# **Gmail Notifications**\n",
    "\n",
    "- In this section, we will use the Gmail service to create an email notification for the intended users.\n",
    "- If you are using it for the first time, you might be redirected to your web browser to authorize your application.\n",
    "\n",
    "---"
   ],
   "metadata": {}
  },
  {
   "cell_type": "code",
   "execution_count": null,
   "source": [
    "message = \"\"\"\r\n",
    "We are celebrating INSAID’s third anniversary this July 2nd 2021. \r\n",
    "As INSAID completes this milestone, on behalf of the entire team, I would like to thank you for being an integral part of INSAID’s journey.<br><br>\r\n",
    "While I congratulate you for your work achievements and efforts, I also want to thank you for the positivity, energy, and happiness you bring to the team.<br><br>\r\n",
    "To celebrate your contribution, we’re excited to award you with the Service Excellence Award 2021.<br><br>\r\n",
    "I would like to appreciate you for your speed of doing tasks, ensuring the best of quality in your work, and strengthening the bond in your team. \r\n",
    "You, for sure, reflect INSAID’s three core values - Speed, Quality, and TeamWork.<br><br>\r\n",
    "We must also thank your family for supporting you to do your best. \r\n",
    "To recognize them, as part of this award, we would like you to take your family out for an all paid dinner (worth INR 10,000) to a 5 star hotel.<br><br>\r\n",
    "Thank you again for your loyalty and invaluable contribution to INSAID’s mission.<br><br>\r\n",
    "Congratulations once again!\r\n",
    "\"\"\"\r\n",
    "\r\n",
    "# Create the plain-text and HTML version of your message\r\n",
    "html_form = \"\"\"\r\n",
    "<html>\r\n",
    "    <head>\r\n",
    "    </head>\r\n",
    "    <body>\r\n",
    "        <p>Hi Receiver,</p>\r\n",
    "        <br>\r\n",
    "        <p>\"\"\" + message +\"\"\"</p>\r\n",
    "        <br>\r\n",
    "        <p>Regards, <br>Sender</p>\r\n",
    "\r\n",
    "    </body>\r\n",
    "</html>\r\n",
    "\"\"\"\r\n",
    "\r\n",
    "display(HTML(html_form))"
   ],
   "outputs": [],
   "metadata": {}
  },
  {
   "cell_type": "code",
   "execution_count": null,
   "source": [
    "# Gmail API Scopes Source: https://developers.google.com/gmail/api/auth/scopes\r\n",
    "CLIENT_SECRET_FILE = \"client_secret.json\"\r\n",
    "API_NAME = \"gmail\"\r\n",
    "API_VERSION = \"v1\"\r\n",
    "SCOPES = [\"https://mail.google.com/\"]\r\n",
    "\r\n",
    "# Create a service file using client secret, api name, api version and scopes\r\n",
    "service = Create_Service(CLIENT_SECRET_FILE, API_NAME, API_VERSION, SCOPES)\r\n",
    "\r\n",
    "# Encode message as base64\r\n",
    "mimeMessage = MIMEMultipart()\r\n",
    "mimeMessage[\"to\"] = \"<Receiver Email ID>\"\r\n",
    "mimeMessage[\"subject\"] = \"Service Excellence Certificates | INSAID\"\r\n",
    "\r\n",
    "# Attaching html form to the mimeMessage \r\n",
    "mimeMessage.attach(payload=MIMEText(_text=html_form, _subtype=\"html\"))\r\n",
    "raw_string = base64.urlsafe_b64encode(mimeMessage.as_bytes()).decode()\r\n",
    "\r\n",
    "# Send email using raw_string\r\n",
    "message = service.users().messages().send(userId=\"me\", body={\"raw\": raw_string}).execute()\r\n",
    "\r\n",
    "# Display message id, threadId, labelIds\r\n",
    "print(message)"
   ],
   "outputs": [],
   "metadata": {}
  },
  {
   "cell_type": "markdown",
   "source": [
    "---\n",
    "\n",
    "# **SMS Notifications**\n",
    "\n",
    "- In this section, we will use the SMS service of Twilio to create an SMS notification for the intended users.\n",
    "\n",
    "---"
   ],
   "metadata": {}
  },
  {
   "cell_type": "code",
   "execution_count": null,
   "source": [
    "account_sid = \"<Your Accound SID>\"\r\n",
    "auth_token = \"<Your Account Authorization Token>\"\r\n",
    "\r\n",
    "# Initialize a message to sent; have a limit of 1600 characters/message\r\n",
    "message = \"\"\"I wish you enjoy your evening with joy and laughter, peace at your heart because my brother these are the things that you truly deserve.\"\"\"\r\n",
    "\r\n",
    "client = Client(account_sid, auth_token)\r\n",
    "\r\n",
    "message = client.messages.create(to='<Verified Receiver Number>', \r\n",
    "                                 from_='<Twilio Generated Phone Number>', \r\n",
    "                                 body=message)\r\n",
    "\r\n",
    "print(message.sid)"
   ],
   "outputs": [],
   "metadata": {}
  },
  {
   "cell_type": "markdown",
   "source": [
    "---\n",
    "\n",
    "# **WhatsApp Notifications**\n",
    "\n",
    "- In this section, we will use the WhatsApp service of Twilio to create a WhatsApp notification for the intended users.\n",
    "- You can follow the instructions to set up a bot for your WhatsApp notifications before executing the following code.\n",
    "\n",
    "---"
   ],
   "metadata": {}
  },
  {
   "cell_type": "code",
   "execution_count": null,
   "source": [
    "account_sid = \"<Your Accound SID>\"\r\n",
    "auth_token = \"<Your Account Authorization Token>\"\r\n",
    "\r\n",
    "client = Client(account_sid, auth_token)\r\n",
    "\r\n",
    "message = client.messages.create(to='whatsapp:<Verified Receiver Number>', \r\n",
    "                                 from_='whatsapp:<Twilio Generated WhatsApp Number>', \r\n",
    "                                 body='Hello there!')\r\n",
    "\r\n",
    "print(message.sid)"
   ],
   "outputs": [],
   "metadata": {}
  },
  {
   "cell_type": "markdown",
   "source": [
    "---\n",
    "\n",
    "# **Telegram Notifications**\n",
    "\n",
    "- In this section, we will use the Telegram Bot API to create a Telegram notification for the intended users.\n",
    "- You can follow the instructions to set up a private bot for your Telegram before executing the following code.\n",
    "\n",
    "---"
   ],
   "metadata": {}
  },
  {
   "cell_type": "code",
   "execution_count": null,
   "source": [
    "base_url = \"https://api.telegram.org/bot\"\r\n",
    "\r\n",
    "token = \"<Your Bot Token>\"\r\n",
    "\r\n",
    "endpoint = \"/sendMessage\"\r\n",
    "\r\n",
    "chat_id = \"<Your Chat ID>\"\r\n",
    "\r\n",
    "message = \"What a lovely day today.\"\r\n",
    "\r\n",
    "url = base_url + token + endpoint + \"?chat_id=\" + chat_id + \"&text=\" + message\r\n",
    "\r\n",
    "payload={}\r\n",
    "\r\n",
    "headers = {}\r\n",
    "\r\n",
    "response = requests.request(\"POST\", url, headers=headers, data=payload)\r\n",
    "\r\n",
    "print(response.text)"
   ],
   "outputs": [],
   "metadata": {}
  },
  {
   "cell_type": "markdown",
   "source": [
    "---\n",
    "\n",
    "# **Slack Notifications**\n",
    "\n",
    "- In this section, we will use the Telegram Bot API to create a Telegram notification for the intended users.\n",
    "- You can follow the instructions to set up a private bot for your Telegram before executing the following code.\n",
    "\n",
    "---"
   ],
   "metadata": {}
  },
  {
   "cell_type": "code",
   "execution_count": null,
   "source": [
    "base_url = \"https://slack.com/api/chat.postMessage\"\r\n",
    "\r\n",
    "channel_id = \"<Your Channel ID>\"\r\n",
    "\r\n",
    "user_type = \"Bot\"\r\n",
    "\r\n",
    "message = \"HOLA!\"\r\n",
    "\r\n",
    "username = \"<Your Username>\"\r\n",
    "\r\n",
    "url = base_url + \"?channel=\" + channel_id + \"&as_user=\" + user_type + \"&text=\" + message + \"&username=\" + username + \"&pretty=1\"\r\n",
    "\r\n",
    "payload={}\r\n",
    "\r\n",
    "files={}\r\n",
    "\r\n",
    "headers = {'Authorization': 'Bearer <Your Authorization Token>'}\r\n",
    "\r\n",
    "response = requests.request(\"POST\", url, headers=headers, data=payload, files=files)\r\n",
    "\r\n",
    "print(response.text)"
   ],
   "outputs": [],
   "metadata": {}
  },
  {
   "cell_type": "markdown",
   "source": [
    "---\n",
    "\n",
    "# **Voice Notifications**\n",
    "\n",
    "- In this section, we will use the Voice service of Twilio to create a customized voice notification for the intended user.\n",
    "- You can follow the instructions to set up voice notifications before executing the following code.\n",
    "\n",
    "---"
   ],
   "metadata": {}
  },
  {
   "cell_type": "code",
   "execution_count": null,
   "source": [
    "aaccount_sid = \"<Your Accound SID>\"\r\n",
    "auth_token = \"<Your Account Authorization Token>\"\r\n",
    "\r\n",
    "client = Client(account_sid, auth_token)\r\n",
    "\r\n",
    "# Create a customized message\r\n",
    "response = VoiceResponse()\r\n",
    "response.say('I wish you enjoy your evening with joy and laughter, peace at your heart because my brother these are the things that you truly deserve.')\r\n",
    "\r\n",
    "call = client.calls.create(to='<Verified Receiver Number>', \r\n",
    "                           from_='<Twilio Generated Phone Number>', \r\n",
    "                           twiml=response)\r\n",
    "\r\n",
    "print(call.sid)"
   ],
   "outputs": [],
   "metadata": {}
  }
 ],
 "metadata": {
  "interpreter": {
   "hash": "23263b619eede791ee76531faea33d0ac3cfe2e28e54d2f570a826170ba9147e"
  },
  "kernelspec": {
   "name": "python3",
   "display_name": "Python 3.9.6 64-bit"
  },
  "language_info": {
   "codemirror_mode": {
    "name": "ipython",
    "version": 3
   },
   "file_extension": ".py",
   "mimetype": "text/x-python",
   "name": "python",
   "nbconvert_exporter": "python",
   "pygments_lexer": "ipython3",
   "version": "3.9.6"
  }
 },
 "nbformat": 4,
 "nbformat_minor": 5
}